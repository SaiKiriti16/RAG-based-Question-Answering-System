{
 "cells": [
  {
   "cell_type": "code",
   "execution_count": 1,
   "id": "cdba40e0",
   "metadata": {},
   "outputs": [],
   "source": [
    "#!pip install -U nltk\n",
    "#!pip install langchain-community\n",
    "#!pip install --upgrade langchain-community\n",
    "#!pip install -U langchain-groq\n",
    "#!pip install unstructured\n",
    "#!pip install unstructured libmagic python-magic python-magic-bin\n",
    "#!pip install sentence-transformers\n",
    "#!pip install faiss-cpu"
   ]
  },
  {
   "cell_type": "code",
   "execution_count": 2,
   "id": "97b7afc7",
   "metadata": {},
   "outputs": [],
   "source": [
    "import warnings\n",
    "warnings.filterwarnings(\"ignore\") "
   ]
  },
  {
   "cell_type": "code",
   "execution_count": 3,
   "id": "fc806a0d",
   "metadata": {},
   "outputs": [
    {
     "name": "stderr",
     "output_type": "stream",
     "text": [
      "[nltk_data] Downloading package averaged_perceptron_tagger_eng to\n",
      "[nltk_data]     C:\\Users\\SAI KIRITI\\AppData\\Roaming\\nltk_data...\n",
      "[nltk_data]   Package averaged_perceptron_tagger_eng is already up-to-\n",
      "[nltk_data]       date!\n"
     ]
    }
   ],
   "source": [
    "import os\n",
    "import pickle\n",
    "import nltk\n",
    "nltk.download('averaged_perceptron_tagger_eng')\n",
    "from langchain.chains import RetrievalQAWithSourcesChain\n",
    "from langchain.chains.qa_with_sources import load_qa_with_sources_chain\n",
    "from langchain.text_splitter import RecursiveCharacterTextSplitter\n",
    "from langchain.embeddings import HuggingFaceEmbeddings\n",
    "from langchain.vectorstores import FAISS\n",
    "from langchain.document_loaders import UnstructuredURLLoader\n",
    "from langchain_groq import ChatGroq"
   ]
  },
  {
   "cell_type": "code",
   "execution_count": 4,
   "id": "aa5b6b71",
   "metadata": {},
   "outputs": [],
   "source": [
    "def set_groq_api_key():\n",
    "    return \"your groq api key here\"\n",
    "\n",
    "def load_documents(urls):\n",
    "    loader = UnstructuredURLLoader(urls=urls)\n",
    "    documents = loader.load()\n",
    "    \n",
    "    text_splitter = RecursiveCharacterTextSplitter(chunk_size=500, chunk_overlap=20)\n",
    "    texts = text_splitter.split_documents(documents)\n",
    "    \n",
    "    return texts\n",
    "\n",
    "def create_vector_index(texts):\n",
    "    embeddings = HuggingFaceEmbeddings()\n",
    "    vector_index = FAISS.from_documents(texts, embeddings)\n",
    "    return vector_index\n",
    "\n",
    "def save_vector_index(vector_index, filename='vector_index.pkl'):\n",
    "    with open(filename, 'wb') as f:\n",
    "        pickle.dump(vector_index, f)\n",
    "\n",
    "def load_vector_index(filename='vector_index.pkl'):\n",
    "    with open(filename, 'rb') as f:\n",
    "        vector_index = pickle.load(f)\n",
    "    return vector_index\n",
    "\n",
    "def create_qa_chain(api_key, vector_index):\n",
    "    llm = ChatGroq(\n",
    "        api_key=api_key,\n",
    "        model_name=\"llama3-8b-8192\",\n",
    "        temperature=0.9,\n",
    "        max_tokens=500,\n",
    "        groq_api_key=\"your groq api key here\") # Specify model for ChatGroq\n",
    "    \n",
    "    return RetrievalQAWithSourcesChain.from_llm(llm=llm, retriever=vector_index.as_retriever())\n",
    "\n",
    "def ask_query(chain, query):\n",
    "    result = chain({\"question\": query}, return_only_outputs=True)\n",
    "    return result"
   ]
  },
  {
   "cell_type": "code",
   "execution_count": 5,
   "id": "203ae216",
   "metadata": {},
   "outputs": [],
   "source": [
    "def main(urls, query):\n",
    "    api_key = set_groq_api_key()\n",
    "    \n",
    "    texts = load_documents(urls)\n",
    "    \n",
    "    vector_index = create_vector_index(texts)\n",
    "    \n",
    "    qa_chain = create_qa_chain(api_key, vector_index)\n",
    "    \n",
    "    return ask_query(qa_chain, query)"
   ]
  },
  {
   "cell_type": "code",
   "execution_count": 9,
   "id": "4fab2263",
   "metadata": {},
   "outputs": [
    {
     "name": "stderr",
     "output_type": "stream",
     "text": [
      "<ipython-input-4-25dcc1670212>:14: LangChainDeprecationWarning: Default values for HuggingFaceEmbeddings.model_name were deprecated in LangChain 0.2.16 and will be removed in 0.4.0. Explicitly pass a model_name to the HuggingFaceEmbeddings constructor instead.\n",
      "  embeddings = HuggingFaceEmbeddings()\n"
     ]
    },
    {
     "name": "stdout",
     "output_type": "stream",
     "text": [
      "{'answer': \"FINAL ANSWER: IndusInd Bank's net profit for Q2 FY25 is Rs 1,331 crore.\\n\", 'sources': 'https://www.moneycontrol.com/news/business/earnings/indusind-bank-q2-net-profit-falls-40-on-year-to-rs-1331-crore-misses-expectations-12849613.html'}\n"
     ]
    }
   ],
   "source": [
    "urls = [\n",
    "    \"https://www.moneycontrol.com/news/business/earnings/indusind-bank-q2-net-profit-falls-40-on-year-to-rs-1331-crore-misses-expectations-12849613.html\"\n",
    "]\n",
    "\n",
    "query = \"How much net profit for Indusind bank ?\"\n",
    "    \n",
    "result = main(urls, query)\n",
    "print(result)"
   ]
  },
  {
   "cell_type": "code",
   "execution_count": null,
   "id": "7118a519",
   "metadata": {},
   "outputs": [],
   "source": []
  }
 ],
 "metadata": {
  "kernelspec": {
   "display_name": "Python 3",
   "language": "python",
   "name": "python3"
  },
  "language_info": {
   "codemirror_mode": {
    "name": "ipython",
    "version": 3
   },
   "file_extension": ".py",
   "mimetype": "text/x-python",
   "name": "python",
   "nbconvert_exporter": "python",
   "pygments_lexer": "ipython3",
   "version": "3.8.8"
  }
 },
 "nbformat": 4,
 "nbformat_minor": 5
}
